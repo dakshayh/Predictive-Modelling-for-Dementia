{
 "cells": [
  {
   "cell_type": "code",
   "execution_count": null,
   "metadata": {},
   "outputs": [],
   "source": [
    "import numpy as np\n",
    "import pandas as pd\n",
    "import sklearn as sk\n",
    "import seaborn as sb\n",
    "import pickle\n",
    "import matplotlib.pyplot as plt\n",
    "from pylab import rcParams\n",
    "rcParams['figure.figsize'] = 10,10"
   ]
  },
  {
   "cell_type": "code",
   "execution_count": null,
   "metadata": {},
   "outputs": [],
   "source": [
    "import statsmodels.api as sm"
   ]
  },
  {
   "cell_type": "code",
   "execution_count": null,
   "metadata": {},
   "outputs": [],
   "source": [
    "long_df = pd.read_csv(\"oasis_longitudinal.csv\")"
   ]
  },
  {
   "cell_type": "code",
   "execution_count": null,
   "metadata": {},
   "outputs": [],
   "source": [
    "long_df = long_df.drop(\"Subject ID\",axis = 1)\n",
    "long_df = long_df.drop(\"MRI ID\",axis =1)\n",
    "#dropping Hand column\n",
    "long_df=long_df.drop(\"Hand\",axis=1)\n",
    "long_df.SES = long_df.SES.fillna(round(long_df.SES.mean()))\n",
    "long_df.MMSE = long_df.MMSE.fillna(round(long_df.MMSE.mean()))\n",
    "long_df['Group'] = long_df['Group'].replace('Converted','Demented') \n",
    "#creating dummy variables\n",
    "long_df = pd.get_dummies(data= long_df,columns = {'Group','M/F'})\n",
    "long_df = long_df.rename(columns={'M/F_F':'Female','M/F_M':'Male','Group_Demented':'Demented','Group_Nondemented':'Non-Demented'})\n",
    "#Male=1 and Female=0\n",
    "long_df=long_df.drop(\"Female\",axis=1)\n",
    "long_df = long_df.rename(columns={\"Male\":\"Gender\"})\n",
    "#Demented=1 and Non-demented=0\n",
    "long_df = long_df.drop(\"Non-Demented\",axis=1)\n",
    "long_df = long_df.rename(columns={\"Demented\":\"Group\"})"
   ]
  },
  {
   "cell_type": "code",
   "execution_count": null,
   "metadata": {},
   "outputs": [],
   "source": [
    "male_df = long_df[long_df['Gender']==1].drop(\"Gender\",axis=1)\n",
    "female_df = long_df[long_df['Gender']==0].drop(\"Gender\",axis=1)"
   ]
  },
  {
   "cell_type": "code",
   "execution_count": null,
   "metadata": {},
   "outputs": [],
   "source": [
    "columns =['Age', 'EDUC', 'SES', 'MMSE', 'eTIV',\n",
    "       'nWBV', 'ASF']"
   ]
  },
  {
   "cell_type": "code",
   "execution_count": null,
   "metadata": {},
   "outputs": [],
   "source": [
    "X_train_male = male_df[['Age', 'EDUC', 'SES', 'MMSE', 'eTIV',\n",
    "       'nWBV', 'ASF']].to_numpy()\n",
    "Y_train_male = male_df['Group'].to_numpy()\n",
    "X_train_female = female_df[['Age', 'EDUC', 'SES', 'MMSE', 'eTIV',\n",
    "       'nWBV', 'ASF']].to_numpy()\n",
    "Y_train_female = female_df['Group'].to_numpy()\n",
    "X_train = long_df[['Age', 'EDUC', 'SES', 'MMSE', 'eTIV',\n",
    "       'nWBV', 'ASF']].to_numpy()\n",
    "Y_train = long_df['Group'].to_numpy()"
   ]
  },
  {
   "cell_type": "code",
   "execution_count": null,
   "metadata": {},
   "outputs": [],
   "source": [
    "from sklearn.model_selection import train_test_split\n",
    "from sklearn.feature_selection import RFE\n",
    "from sklearn.linear_model import LogisticRegression\n",
    "from sklearn.metrics import confusion_matrix, accuracy_score, recall_score, roc_curve, auc, roc_auc_score\n",
    "from sklearn.preprocessing import MinMaxScaler"
   ]
  },
  {
   "cell_type": "code",
   "execution_count": null,
   "metadata": {},
   "outputs": [],
   "source": [
    "def scale(X):\n",
    "    scaler = MinMaxScaler().fit(X)\n",
    "    X=scaler.transform(X)\n",
    "    return X"
   ]
  },
  {
   "cell_type": "code",
   "execution_count": null,
   "metadata": {},
   "outputs": [],
   "source": [
    "X_train = scale(X_train)\n",
    "X_train_male = scale(X_train_male)\n",
    "X_train_female = scale(X_train_female)"
   ]
  },
  {
   "cell_type": "code",
   "execution_count": null,
   "metadata": {},
   "outputs": [],
   "source": [
    "performance = [['Model','Trained on Type of data','Predicting data','Accuracy in %','Sensitivity','Specificity']]\n",
    "factors =[]"
   ]
  },
  {
   "cell_type": "code",
   "execution_count": null,
   "metadata": {},
   "outputs": [],
   "source": [
    "def plt_confusion_matrix(Y,Y_predicted,title='Confusion Matrix'):\n",
    "    cf = confusion_matrix(Y, Y_predicted)\n",
    "    df_cm = pd.DataFrame(cf,columns=['Non-demented','Demented'],index=['Non-demented','Demented'])\n",
    "    sb.heatmap(df_cm,annot=True,fmt='g',cbar=False)\n",
    "    plt.ylabel('True Label')\n",
    "    plt.xlabel('Predicted Label')\n",
    "    plt.title(title)"
   ]
  },
  {
   "cell_type": "markdown",
   "metadata": {},
   "source": [
    "## Logistic Regression for entire data"
   ]
  },
  {
   "cell_type": "code",
   "execution_count": null,
   "metadata": {
    "scrolled": true
   },
   "outputs": [],
   "source": [
    "LogModel= LogisticRegression(solver='lbfgs').fit(X_train,Y_train)\n",
    "Y_predicted = LogModel.predict(X_train)\n",
    "acc = accuracy_score(Y_train,Y_predicted)\n",
    "plt_confusion_matrix(Y_train,Y_predicted,title='LogModel on entire data')\n",
    "plt.savefig('LogModel on entire data.png')\n",
    "cf = confusion_matrix(Y_train, Y_predicted)\n",
    "tn, fp, fn, tp = cf.ravel()\n",
    "sensitivity= tp/(tp+fn)\n",
    "specificity = tn/(tn+fp)\n",
    "performance.append(['Logistic Regression','Entire dataset','Entire dataset',acc*100,sensitivity,specificity])"
   ]
  },
  {
   "cell_type": "code",
   "execution_count": null,
   "metadata": {},
   "outputs": [],
   "source": [
    "feature_importance=pd.DataFrame(np.hstack((np.array([columns]).T, LogModel.coef_.T)), \n",
    "                                columns=['feature', 'importance'])\n",
    "feature_importance"
   ]
  },
  {
   "cell_type": "code",
   "execution_count": null,
   "metadata": {},
   "outputs": [],
   "source": [
    "#predicting on male data\n",
    "Y_predicted_male = LogModel.predict(X_train_male)\n",
    "acc = accuracy_score(Y_train_male,Y_predicted_male)\n",
    "plt_confusion_matrix(Y_train_male,Y_predicted_male,title='LogModel on Male data')\n",
    "plt.savefig('LogModel on Male data.png')\n",
    "cf = confusion_matrix(Y_train_male, Y_predicted_male)\n",
    "tn = cf[0][0]\n",
    "fp = cf[0][1]\n",
    "fn = cf[1][0]\n",
    "tp = cf[1][1]\n",
    "sensitivity= tp/(tp+fn)\n",
    "specificity = tn/(tn+fp)\n",
    "performance.append(['Logistic Regression','Entire dataset','Male dataset',acc*100,sensitivity,specificity])"
   ]
  },
  {
   "cell_type": "code",
   "execution_count": null,
   "metadata": {
    "scrolled": true
   },
   "outputs": [],
   "source": [
    "#predicting on female data\n",
    "Y_predicted_female = LogModel.predict(X_train_female)\n",
    "acc = accuracy_score(Y_train_female,Y_predicted_female)\n",
    "plt_confusion_matrix(Y_train_female,Y_predicted_female,title='LogModel on Female data')\n",
    "plt.savefig('LogModel on Female data.png')\n",
    "cf = confusion_matrix(Y_train_female, Y_predicted_female)\n",
    "tn = cf[0][0]\n",
    "fp = cf[0][1]\n",
    "fn = cf[1][0]\n",
    "tp = cf[1][1]\n",
    "sensitivity= tp/(tp+fn)\n",
    "specificity = tn/(tn+fp)\n",
    "performance.append(['Logistic Regression','Entire dataset','Female dataset',acc*100,sensitivity,specificity])"
   ]
  },
  {
   "cell_type": "markdown",
   "metadata": {},
   "source": [
    "## Important Features for LogModel"
   ]
  },
  {
   "cell_type": "code",
   "execution_count": null,
   "metadata": {},
   "outputs": [],
   "source": [
    "print('Age', 'EDUC', 'SES', 'MMSE', 'eTIV',\n",
    "       'nWBV', 'ASF')\n",
    "rfe = RFE(LogModel, 4)\n",
    "fit = rfe.fit(X_train, Y_train)\n",
    "print(\"Num Features: %d\" % fit.n_features_)\n",
    "print(\"Selected Features: %s\" % fit.support_)\n",
    "print(\"Feature Ranking: %s\" % fit.ranking_)"
   ]
  },
  {
   "cell_type": "code",
   "execution_count": null,
   "metadata": {},
   "outputs": [],
   "source": [
    "feature_importance=pd.DataFrame(np.hstack((np.array([columns]).T, LogModel.coef_.T)), \n",
    "                                columns=['feature', 'importance'])\n",
    "feature_importance"
   ]
  },
  {
   "cell_type": "markdown",
   "metadata": {},
   "source": [
    "## Logistic Regression for male data"
   ]
  },
  {
   "cell_type": "code",
   "execution_count": null,
   "metadata": {
    "scrolled": true
   },
   "outputs": [],
   "source": [
    "LogModel_m = LogisticRegression(solver='lbfgs').fit(X_train_male,Y_train_male)\n",
    "Y_predicted_male = LogModel_m.predict(X_train_male)\n",
    "acc = accuracy_score(Y_train_male,Y_predicted_male)\n",
    "plt_confusion_matrix(Y_train_male,Y_predicted_male,title='Male LogModel on Male data')\n",
    "plt.savefig('Male LogModel on Male data.png')\n",
    "cf = confusion_matrix(Y_train_male, Y_predicted_male)\n",
    "tn = cf[0][0]\n",
    "fp = cf[0][1]\n",
    "fn = cf[1][0]\n",
    "tp = cf[1][1]\n",
    "sensitivity = tp/(tp+fn)\n",
    "specificity = tn/(tn+fp)\n",
    "performance.append(['Logistic Regression(Male)','Male dataset','Male dataset',acc*100,sensitivity,specificity])"
   ]
  },
  {
   "cell_type": "markdown",
   "metadata": {},
   "source": [
    "## Important features for Male LogModel"
   ]
  },
  {
   "cell_type": "code",
   "execution_count": null,
   "metadata": {},
   "outputs": [],
   "source": [
    "print('Age', 'EDUC', 'SES', 'MMSE', 'eTIV',\n",
    "       'nWBV', 'ASF')\n",
    "rfe = RFE(LogModel_m, 4)\n",
    "fit = rfe.fit(X_train_male, Y_train_male)\n",
    "print(\"Num Features: %d\" % fit.n_features_)\n",
    "print(\"Selected Features: %s\" % fit.support_)\n",
    "print(\"Feature Ranking: %s\" % fit.ranking_)"
   ]
  },
  {
   "cell_type": "code",
   "execution_count": null,
   "metadata": {
    "scrolled": true
   },
   "outputs": [],
   "source": [
    "feature_importance=pd.DataFrame(np.hstack((np.array([columns]).T, LogModel_m.coef_.T)), \n",
    "                                columns=['feature', 'importance'])\n",
    "feature_importance"
   ]
  },
  {
   "cell_type": "markdown",
   "metadata": {},
   "source": [
    "## Comparing ROC curves on male data by LogModel and LogModel_m"
   ]
  },
  {
   "cell_type": "code",
   "execution_count": null,
   "metadata": {},
   "outputs": [],
   "source": [
    "#predicting probabilities of the predicted class\n",
    "y_pred_prob = LogModel.predict_proba(X_train_male)[:,1]\n",
    "y_pred_prob_male = LogModel_m.predict_proba(X_train_male)[:,1]\n",
    "#Plotting ROC curve\n",
    "fpr, tpr, _ = roc_curve(Y_train_male, y_pred_prob)\n",
    "fpr_m, tpr_m, _ = roc_curve(Y_train_male, y_pred_prob_male)\n",
    "AUC = auc(fpr,tpr)\n",
    "AUC_m = auc(fpr_m,tpr_m)\n",
    "plt.plot(fpr, tpr,label='Global Model(AUC= % 0.2f)' % AUC)\n",
    "plt.plot(fpr_m, tpr_m,label='Male Model(AUC= % 0.2f)' % AUC_m)\n",
    "plt.xlim([0.0, 1.0])\n",
    "plt.ylim([0.0, 1.0])\n",
    "plt.title('ROC curve (Male data)')\n",
    "plt.xlabel('False Positive Rate (1 - Specificity)')\n",
    "plt.ylabel('True Positive Rate (Sensitivity)')\n",
    "plt.legend(loc=\"lower right\")\n",
    "plt.grid(True)\n",
    "plt.savefig('ROC curve(Male data).png')"
   ]
  },
  {
   "cell_type": "markdown",
   "metadata": {},
   "source": [
    "## Logistic Regression for female data"
   ]
  },
  {
   "cell_type": "code",
   "execution_count": null,
   "metadata": {
    "scrolled": true
   },
   "outputs": [],
   "source": [
    "LogModel_f = LogisticRegression(solver='lbfgs').fit(X_train_female,Y_train_female)\n",
    "Y_predicted_female = LogModel_f.predict(X_train_female)\n",
    "acc = accuracy_score(Y_train_female,Y_predicted_female)\n",
    "plt_confusion_matrix(Y_train_female,Y_predicted_female,title='Female LogModel on Female data')\n",
    "plt.savefig('Female LogModel on Female data.png')\n",
    "cf = confusion_matrix(Y_train_female, Y_predicted_female)\n",
    "tn = cf[0][0]\n",
    "fp = cf[0][1]\n",
    "fn = cf[1][0]\n",
    "tp = cf[1][1]\n",
    "sensitivity = tp/(tp+fn)\n",
    "specificity = tn/(tn+fp)\n",
    "performance.append(['Logistic Regression(Female)','Female dataset','Female dataset',acc*100,sensitivity,specificity])"
   ]
  },
  {
   "cell_type": "markdown",
   "metadata": {},
   "source": [
    "## Important features for Female Log Model"
   ]
  },
  {
   "cell_type": "code",
   "execution_count": null,
   "metadata": {
    "scrolled": true
   },
   "outputs": [],
   "source": [
    "print('Age', 'EDUC', 'SES', 'MMSE', 'eTIV',\n",
    "       'nWBV', 'ASF')\n",
    "rfe = RFE(LogModel, 4)\n",
    "fit = rfe.fit(X_train_female, Y_train_female)\n",
    "print(\"Num Features: %d\" % fit.n_features_)\n",
    "print(\"Selected Features: %s\" % fit.support_)\n",
    "print(\"Feature Ranking: %s\" % fit.ranking_)"
   ]
  },
  {
   "cell_type": "code",
   "execution_count": null,
   "metadata": {},
   "outputs": [],
   "source": [
    "feature_importance=pd.DataFrame(np.hstack((np.array([columns]).T, LogModel_f.coef_.T)), \n",
    "                                columns=['feature', 'importance'])\n",
    "feature_importance"
   ]
  },
  {
   "cell_type": "markdown",
   "metadata": {},
   "source": [
    "## Comparing ROC curves on female data by LogModel and LogModel_f"
   ]
  },
  {
   "cell_type": "code",
   "execution_count": null,
   "metadata": {},
   "outputs": [],
   "source": [
    "#predicting probabilities of the predicted class\n",
    "y_pred_prob = LogModel.predict_proba(X_train_female)[:,1]\n",
    "y_pred_prob_f = LogModel_f.predict_proba(X_train_female)[:,1]\n",
    "#Plotting ROC curve\n",
    "fpr, tpr, _ = roc_curve(Y_train_female, y_pred_prob)\n",
    "fpr_f, tpr_f, _ = roc_curve(Y_train_female, y_pred_prob_f)\n",
    "AUC = auc(fpr,tpr)\n",
    "AUC_f = auc(fpr_f,tpr_f)\n",
    "plt.plot(fpr, tpr,label='Global Model(AUC= % 0.2f)' % AUC)\n",
    "plt.plot(fpr_f, tpr_f,label='Female Model(AUC= % 0.2f)' % AUC_f)\n",
    "plt.xlim([0.0, 1.0])\n",
    "plt.ylim([0.0, 1.0])\n",
    "plt.title('ROC curve (Female data)')\n",
    "plt.xlabel('False Positive Rate (1 - Specificity)')\n",
    "plt.ylabel('True Positive Rate (Sensitivity)')\n",
    "plt.legend(loc=\"lower right\")\n",
    "plt.grid(True)\n",
    "plt.savefig('ROC curve(Female data).png')"
   ]
  },
  {
   "cell_type": "code",
   "execution_count": null,
   "metadata": {
    "scrolled": true
   },
   "outputs": [],
   "source": [
    "performance"
   ]
  },
  {
   "cell_type": "code",
   "execution_count": null,
   "metadata": {},
   "outputs": [],
   "source": [
    "import csv\n",
    "with open('Performance.csv', 'w', newline='') as myfile:\n",
    "    for entries in performance:\n",
    "        wr = csv.writer(myfile, quoting=csv.QUOTE_ALL)\n",
    "        wr.writerow(entries)\n",
    "        wr.writerow(\"\\n\")"
   ]
  },
  {
   "cell_type": "code",
   "execution_count": null,
   "metadata": {},
   "outputs": [],
   "source": []
  }
 ],
 "metadata": {
  "kernelspec": {
   "display_name": "Python 3",
   "language": "python",
   "name": "python3"
  },
  "language_info": {
   "codemirror_mode": {
    "name": "ipython",
    "version": 3
   },
   "file_extension": ".py",
   "mimetype": "text/x-python",
   "name": "python",
   "nbconvert_exporter": "python",
   "pygments_lexer": "ipython3",
   "version": "3.7.3"
  }
 },
 "nbformat": 4,
 "nbformat_minor": 2
}
