{
 "cells": [
  {
   "cell_type": "code",
   "execution_count": 1,
   "metadata": {},
   "outputs": [],
   "source": [
    "import numpy as np\n",
    "import pandas as pd\n",
    "import sklearn as sk\n",
    "import seaborn as sb\n",
    "import pickle\n",
    "import matplotlib.pyplot as plt\n",
    "from pylab import rcParams\n",
    "rcParams['figure.figsize'] = 10,10"
   ]
  },
  {
   "cell_type": "code",
   "execution_count": 2,
   "metadata": {},
   "outputs": [],
   "source": [
    "import statsmodels.api as sm"
   ]
  },
  {
   "cell_type": "code",
   "execution_count": 3,
   "metadata": {},
   "outputs": [],
   "source": [
    "long_df = pd.read_csv(\"oasis_longitudinal.csv\")"
   ]
  },
  {
   "cell_type": "code",
   "execution_count": 4,
   "metadata": {},
   "outputs": [],
   "source": [
    "long_df = long_df.drop(\"Subject ID\",axis = 1)\n",
    "long_df = long_df.drop(\"MRI ID\",axis =1)\n",
    "#dropping Hand column\n",
    "long_df=long_df.drop(\"Hand\",axis=1)\n",
    "long_df.SES = long_df.SES.fillna(round(long_df.SES.mean()))\n",
    "long_df.MMSE = long_df.MMSE.fillna(round(long_df.MMSE.mean()))\n",
    "long_df['Group'] = long_df['Group'].replace('Converted','Demented') \n",
    "#creating dummy variables\n",
    "long_df = pd.get_dummies(data= long_df,columns = {'Group','M/F'})\n",
    "long_df = long_df.rename(columns={'M/F_F':'Female','M/F_M':'Male','Group_Demented':'Demented','Group_Nondemented':'Non-Demented'})\n",
    "#Male=1 and Female=0\n",
    "long_df=long_df.drop(\"Female\",axis=1)\n",
    "long_df = long_df.rename(columns={\"Male\":\"Gender\"})\n",
    "#Demented=1 and Non-demented=0\n",
    "long_df = long_df.drop(\"Non-Demented\",axis=1)\n",
    "long_df = long_df.rename(columns={\"Demented\":\"Group\"})"
   ]
  },
  {
   "cell_type": "code",
   "execution_count": 5,
   "metadata": {},
   "outputs": [],
   "source": [
    "male_df = long_df[long_df['Gender']==1].drop(\"Gender\",axis=1)\n",
    "female_df = long_df[long_df['Gender']==0].drop(\"Gender\",axis=1)"
   ]
  },
  {
   "cell_type": "code",
   "execution_count": 6,
   "metadata": {},
   "outputs": [],
   "source": [
    "columns =['Age', 'EDUC', 'SES', 'MMSE', 'eTIV',\n",
    "       'nWBV', 'ASF']"
   ]
  },
  {
   "cell_type": "code",
   "execution_count": 7,
   "metadata": {},
   "outputs": [],
   "source": [
    "X_train_male = male_df[['Age', 'EDUC', 'SES', 'MMSE', 'eTIV',\n",
    "       'nWBV', 'ASF']].to_numpy()\n",
    "Y_train_male = male_df['Group'].to_numpy()\n",
    "X_train_female = female_df[['Age', 'EDUC', 'SES', 'MMSE', 'eTIV',\n",
    "       'nWBV', 'ASF']].to_numpy()\n",
    "Y_train_female = female_df['Group'].to_numpy()\n",
    "X_train = long_df[['Age', 'EDUC', 'SES', 'MMSE', 'eTIV',\n",
    "       'nWBV', 'ASF']].to_numpy()\n",
    "Y_train = long_df['Group'].to_numpy()"
   ]
  },
  {
   "cell_type": "code",
   "execution_count": 8,
   "metadata": {},
   "outputs": [],
   "source": [
    "from sklearn.model_selection import train_test_split\n",
    "from sklearn.feature_selection import RFE\n",
    "from sklearn.linear_model import LogisticRegression\n",
    "from sklearn.metrics import confusion_matrix, accuracy_score, recall_score, roc_curve, auc, roc_auc_score\n",
    "from sklearn.preprocessing import MinMaxScaler"
   ]
  },
  {
   "cell_type": "code",
   "execution_count": 9,
   "metadata": {},
   "outputs": [],
   "source": [
    "def scale(X):\n",
    "    scaler = MinMaxScaler().fit(X)\n",
    "    X=scaler.transform(X)\n",
    "    return X"
   ]
  },
  {
   "cell_type": "code",
   "execution_count": 10,
   "metadata": {},
   "outputs": [],
   "source": [
    "X_train = scale(X_train)\n",
    "X_train_male = scale(X_train_male)\n",
    "X_train_female = scale(X_train_female)"
   ]
  },
  {
   "cell_type": "code",
   "execution_count": 11,
   "metadata": {},
   "outputs": [],
   "source": [
    "performance = [['Model','Trained on Type of data','Predicting data','Accuracy in %','Sensitivity','Specificity']]\n",
    "factors =[]"
   ]
  },
  {
   "cell_type": "code",
   "execution_count": 12,
   "metadata": {},
   "outputs": [],
   "source": [
    "def plt_confusion_matrix(Y,Y_predicted,title='Confusion Matrix'):\n",
    "    cf = confusion_matrix(Y, Y_predicted)\n",
    "    df_cm = pd.DataFrame(cf,columns=['Non-demented','Demented'],index=['Non-demented','Demented'])\n",
    "    sb.heatmap(df_cm,annot=True,fmt='g',cbar=False)\n",
    "    plt.ylabel('True Label')\n",
    "    plt.xlabel('Predicted Label')\n",
    "    plt.title(title)"
   ]
  },
  {
   "cell_type": "markdown",
   "metadata": {},
   "source": [
    "## Logistic Regression for entire data"
   ]
  },
  {
   "cell_type": "code",
   "execution_count": 13,
   "metadata": {
    "scrolled": true
   },
   "outputs": [
    {
     "data": {
      "image/png": "[encoded data removed]",
      "text/plain": [
       "<Figure size 432x288 with 1 Axes>"
      ]
     },
     "metadata": {
      "needs_background": "light"
     },
     "output_type": "display_data"
    }
   ],
   "source": [
    "LogModel= LogisticRegression(solver='lbfgs').fit(X_train,Y_train)\n",
    "Y_predicted = LogModel.predict(X_train)\n",
    "acc = accuracy_score(Y_train,Y_predicted)\n",
    "plt_confusion_matrix(Y_train,Y_predicted,title='LogModel on entire data')\n",
    "plt.savefig('LogModel on entire data.png')\n",
    "cf = confusion_matrix(Y_train, Y_predicted)\n",
    "tn, fp, fn, tp = cf.ravel()\n",
    "sensitivity= tp/(tp+fn)\n",
    "specificity = tn/(tn+fp)\n",
    "performance.append(['Logistic Regression','Entire dataset','Entire dataset',acc*100,sensitivity,specificity])"
   ]
  },
  {
   "cell_type": "code",
   "execution_count": 14,
   "metadata": {},
   "outputs": [
    {
     "data": {
      "text/html": [
       "<div>\n",
       "<style scoped>\n",
       "    .dataframe tbody tr th:only-of-type {\n",
       "        vertical-align: middle;\n",
       "    }\n",
       "\n",
       "    .dataframe tbody tr th {\n",
       "        vertical-align: top;\n",
       "    }\n",
       "\n",
       "    .dataframe thead th {\n",
       "        text-align: right;\n",
       "    }\n",
       "</style>\n",
       "<table border=\"1\" class=\"dataframe\">\n",
       "  <thead>\n",
       "    <tr style=\"text-align: right;\">\n",
       "      <th></th>\n",
       "      <th>feature</th>\n",
       "      <th>importance</th>\n",
       "    </tr>\n",
       "  </thead>\n",
       "  <tbody>\n",
       "    <tr>\n",
       "      <th>0</th>\n",
       "      <td>Age</td>\n",
       "      <td>-1.008469234509097</td>\n",
       "    </tr>\n",
       "    <tr>\n",
       "      <th>1</th>\n",
       "      <td>EDUC</td>\n",
       "      <td>-1.6925291464278163</td>\n",
       "    </tr>\n",
       "    <tr>\n",
       "      <th>2</th>\n",
       "      <td>SES</td>\n",
       "      <td>-0.6377484693032185</td>\n",
       "    </tr>\n",
       "    <tr>\n",
       "      <th>3</th>\n",
       "      <td>MMSE</td>\n",
       "      <td>-5.140264311683276</td>\n",
       "    </tr>\n",
       "    <tr>\n",
       "      <th>4</th>\n",
       "      <td>eTIV</td>\n",
       "      <td>-0.4395529820038815</td>\n",
       "    </tr>\n",
       "    <tr>\n",
       "      <th>5</th>\n",
       "      <td>nWBV</td>\n",
       "      <td>-2.4579721305173616</td>\n",
       "    </tr>\n",
       "    <tr>\n",
       "      <th>6</th>\n",
       "      <td>ASF</td>\n",
       "      <td>0.23678537631624488</td>\n",
       "    </tr>\n",
       "  </tbody>\n",
       "</table>\n",
       "</div>"
      ],
      "text/plain": [
       "  feature           importance\n",
       "0     Age   -1.008469234509097\n",
       "1    EDUC  -1.6925291464278163\n",
       "2     SES  -0.6377484693032185\n",
       "3    MMSE   -5.140264311683276\n",
       "4    eTIV  -0.4395529820038815\n",
       "5    nWBV  -2.4579721305173616\n",
       "6     ASF  0.23678537631624488"
      ]
     },
     "execution_count": 14,
     "metadata": {},
     "output_type": "execute_result"
    }
   ],
   "source": [
    "feature_importance=pd.DataFrame(np.hstack((np.array([columns]).T, LogModel.coef_.T)), \n",
    "                                columns=['feature', 'importance'])\n",
    "feature_importance"
   ]
  },
  {
   "cell_type": "code",
   "execution_count": 15,
   "metadata": {},
   "outputs": [
    {
     "data": {
      "image/png": "[encoded data removed]",
      "text/plain": [
       "<Figure size 432x288 with 1 Axes>"
      ]
     },
     "metadata": {
      "needs_background": "light"
     },
     "output_type": "display_data"
    }
   ],
   "source": [
    "#predicting on male data\n",
    "Y_predicted_male = LogModel.predict(X_train_male)\n",
    "acc = accuracy_score(Y_train_male,Y_predicted_male)\n",
    "plt_confusion_matrix(Y_train_male,Y_predicted_male,title='LogModel on Male data')\n",
    "plt.savefig('LogModel on Male data.png')\n",
    "cf = confusion_matrix(Y_train_male, Y_predicted_male)\n",
    "tn = cf[0][0]\n",
    "fp = cf[0][1]\n",
    "fn = cf[1][0]\n",
    "tp = cf[1][1]\n",
    "sensitivity= tp/(tp+fn)\n",
    "specificity = tn/(tn+fp)\n",
    "performance.append(['Logistic Regression','Entire dataset','Male dataset',acc*100,sensitivity,specificity])"
   ]
  },
  {
   "cell_type": "code",
   "execution_count": 16,
   "metadata": {
    "scrolled": true
   },
   "outputs": [
    {
     "data": {
      "image/png": "[encoded data removed]",
      "text/plain": [
       "<Figure size 432x288 with 1 Axes>"
      ]
     },
     "metadata": {
      "needs_background": "light"
     },
     "output_type": "display_data"
    }
   ],
   "source": [
    "#predicting on female data\n",
    "Y_predicted_female = LogModel.predict(X_train_female)\n",
    "acc = accuracy_score(Y_train_female,Y_predicted_female)\n",
    "plt_confusion_matrix(Y_train_female,Y_predicted_female,title='LogModel on Female data')\n",
    "plt.savefig('LogModel on Female data.png')\n",
    "cf = confusion_matrix(Y_train_female, Y_predicted_female)\n",
    "tn = cf[0][0]\n",
    "fp = cf[0][1]\n",
    "fn = cf[1][0]\n",
    "tp = cf[1][1]\n",
    "sensitivity= tp/(tp+fn)\n",
    "specificity = tn/(tn+fp)\n",
    "performance.append(['Logistic Regression','Entire dataset','Female dataset',acc*100,sensitivity,specificity])"
   ]
  },
  {
   "cell_type": "markdown",
   "metadata": {},
   "source": [
    "## Important Features for LogModel"
   ]
  },
  {
   "cell_type": "code",
   "execution_count": 17,
   "metadata": {},
   "outputs": [
    {
     "name": "stdout",
     "output_type": "stream",
     "text": [
      "Age EDUC SES MMSE eTIV nWBV ASF\n",
      "Num Features: 4\n",
      "Selected Features: [ True  True False  True False  True False]\n",
      "Feature Ranking: [1 1 2 1 3 1 4]\n"
     ]
    }
   ],
   "source": [
    "print('Age', 'EDUC', 'SES', 'MMSE', 'eTIV',\n",
    "       'nWBV', 'ASF')\n",
    "rfe = RFE(LogModel, 4)\n",
    "fit = rfe.fit(X_train, Y_train)\n",
    "print(\"Num Features: %d\" % fit.n_features_)\n",
    "print(\"Selected Features: %s\" % fit.support_)\n",
    "print(\"Feature Ranking: %s\" % fit.ranking_)"
   ]
  },
  {
   "cell_type": "code",
   "execution_count": 18,
   "metadata": {},
   "outputs": [
    {
     "data": {
      "text/html": [
       "<div>\n",
       "<style scoped>\n",
       "    .dataframe tbody tr th:only-of-type {\n",
       "        vertical-align: middle;\n",
       "    }\n",
       "\n",
       "    .dataframe tbody tr th {\n",
       "        vertical-align: top;\n",
       "    }\n",
       "\n",
       "    .dataframe thead th {\n",
       "        text-align: right;\n",
       "    }\n",
       "</style>\n",
       "<table border=\"1\" class=\"dataframe\">\n",
       "  <thead>\n",
       "    <tr style=\"text-align: right;\">\n",
       "      <th></th>\n",
       "      <th>feature</th>\n",
       "      <th>importance</th>\n",
       "    </tr>\n",
       "  </thead>\n",
       "  <tbody>\n",
       "    <tr>\n",
       "      <th>0</th>\n",
       "      <td>Age</td>\n",
       "      <td>-1.008469234509097</td>\n",
       "    </tr>\n",
       "    <tr>\n",
       "      <th>1</th>\n",
       "      <td>EDUC</td>\n",
       "      <td>-1.6925291464278163</td>\n",
       "    </tr>\n",
       "    <tr>\n",
       "      <th>2</th>\n",
       "      <td>SES</td>\n",
       "      <td>-0.6377484693032185</td>\n",
       "    </tr>\n",
       "    <tr>\n",
       "      <th>3</th>\n",
       "      <td>MMSE</td>\n",
       "      <td>-5.140264311683276</td>\n",
       "    </tr>\n",
       "    <tr>\n",
       "      <th>4</th>\n",
       "      <td>eTIV</td>\n",
       "      <td>-0.4395529820038815</td>\n",
       "    </tr>\n",
       "    <tr>\n",
       "      <th>5</th>\n",
       "      <td>nWBV</td>\n",
       "      <td>-2.4579721305173616</td>\n",
       "    </tr>\n",
       "    <tr>\n",
       "      <th>6</th>\n",
       "      <td>ASF</td>\n",
       "      <td>0.23678537631624488</td>\n",
       "    </tr>\n",
       "  </tbody>\n",
       "</table>\n",
       "</div>"
      ],
      "text/plain": [
       "  feature           importance\n",
       "0     Age   -1.008469234509097\n",
       "1    EDUC  -1.6925291464278163\n",
       "2     SES  -0.6377484693032185\n",
       "3    MMSE   -5.140264311683276\n",
       "4    eTIV  -0.4395529820038815\n",
       "5    nWBV  -2.4579721305173616\n",
       "6     ASF  0.23678537631624488"
      ]
     },
     "execution_count": 18,
     "metadata": {},
     "output_type": "execute_result"
    }
   ],
   "source": [
    "feature_importance=pd.DataFrame(np.hstack((np.array([columns]).T, LogModel.coef_.T)), \n",
    "                                columns=['feature', 'importance'])\n",
    "feature_importance"
   ]
  },
  {
   "cell_type": "markdown",
   "metadata": {},
   "source": [
    "## Logistic Regression for male data"
   ]
  },
  {
   "cell_type": "code",
   "execution_count": 19,
   "metadata": {
    "scrolled": true
   },
   "outputs": [
    {
     "data": {
      "image/png": "[encoded data removed]",
      "text/plain": [
       "<Figure size 432x288 with 1 Axes>"
      ]
     },
     "metadata": {
      "needs_background": "light"
     },
     "output_type": "display_data"
    }
   ],
   "source": [
    "LogModel_m = LogisticRegression(solver='lbfgs').fit(X_train_male,Y_train_male)\n",
    "Y_predicted_male = LogModel_m.predict(X_train_male)\n",
    "acc = accuracy_score(Y_train_male,Y_predicted_male)\n",
    "plt_confusion_matrix(Y_train_male,Y_predicted_male,title='Male LogModel on Male data')\n",
    "plt.savefig('Male LogModel on Male data.png')\n",
    "cf = confusion_matrix(Y_train_male, Y_predicted_male)\n",
    "tn = cf[0][0]\n",
    "fp = cf[0][1]\n",
    "fn = cf[1][0]\n",
    "tp = cf[1][1]\n",
    "sensitivity = tp/(tp+fn)\n",
    "specificity = tn/(tn+fp)\n",
    "performance.append(['Logistic Regression(Male)','Male dataset','Male dataset',acc*100,sensitivity,specificity])"
   ]
  },
  {
   "cell_type": "markdown",
   "metadata": {},
   "source": [
    "## Important features for Male LogModel"
   ]
  },
  {
   "cell_type": "code",
   "execution_count": 20,
   "metadata": {},
   "outputs": [
    {
     "name": "stdout",
     "output_type": "stream",
     "text": [
      "Age EDUC SES MMSE eTIV nWBV ASF\n",
      "Num Features: 4\n",
      "Selected Features: [False False False  True  True  True  True]\n",
      "Feature Ranking: [4 3 2 1 1 1 1]\n"
     ]
    }
   ],
   "source": [
    "print('Age', 'EDUC', 'SES', 'MMSE', 'eTIV',\n",
    "       'nWBV', 'ASF')\n",
    "rfe = RFE(LogModel_m, 4)\n",
    "fit = rfe.fit(X_train_male, Y_train_male)\n",
    "print(\"Num Features: %d\" % fit.n_features_)\n",
    "print(\"Selected Features: %s\" % fit.support_)\n",
    "print(\"Feature Ranking: %s\" % fit.ranking_)"
   ]
  },
  {
   "cell_type": "code",
   "execution_count": 21,
   "metadata": {
    "scrolled": true
   },
   "outputs": [
    {
     "data": {
      "text/html": [
       "<div>\n",
       "<style scoped>\n",
       "    .dataframe tbody tr th:only-of-type {\n",
       "        vertical-align: middle;\n",
       "    }\n",
       "\n",
       "    .dataframe tbody tr th {\n",
       "        vertical-align: top;\n",
       "    }\n",
       "\n",
       "    .dataframe thead th {\n",
       "        text-align: right;\n",
       "    }\n",
       "</style>\n",
       "<table border=\"1\" class=\"dataframe\">\n",
       "  <thead>\n",
       "    <tr style=\"text-align: right;\">\n",
       "      <th></th>\n",
       "      <th>feature</th>\n",
       "      <th>importance</th>\n",
       "    </tr>\n",
       "  </thead>\n",
       "  <tbody>\n",
       "    <tr>\n",
       "      <th>0</th>\n",
       "      <td>Age</td>\n",
       "      <td>-0.19423471488830757</td>\n",
       "    </tr>\n",
       "    <tr>\n",
       "      <th>1</th>\n",
       "      <td>EDUC</td>\n",
       "      <td>-0.23080090674634365</td>\n",
       "    </tr>\n",
       "    <tr>\n",
       "      <th>2</th>\n",
       "      <td>SES</td>\n",
       "      <td>-0.8142024644025381</td>\n",
       "    </tr>\n",
       "    <tr>\n",
       "      <th>3</th>\n",
       "      <td>MMSE</td>\n",
       "      <td>-2.786935078869488</td>\n",
       "    </tr>\n",
       "    <tr>\n",
       "      <th>4</th>\n",
       "      <td>eTIV</td>\n",
       "      <td>-1.206297412841878</td>\n",
       "    </tr>\n",
       "    <tr>\n",
       "      <th>5</th>\n",
       "      <td>nWBV</td>\n",
       "      <td>-1.5778821594302155</td>\n",
       "    </tr>\n",
       "    <tr>\n",
       "      <th>6</th>\n",
       "      <td>ASF</td>\n",
       "      <td>1.2920301328644277</td>\n",
       "    </tr>\n",
       "  </tbody>\n",
       "</table>\n",
       "</div>"
      ],
      "text/plain": [
       "  feature            importance\n",
       "0     Age  -0.19423471488830757\n",
       "1    EDUC  -0.23080090674634365\n",
       "2     SES   -0.8142024644025381\n",
       "3    MMSE    -2.786935078869488\n",
       "4    eTIV    -1.206297412841878\n",
       "5    nWBV   -1.5778821594302155\n",
       "6     ASF    1.2920301328644277"
      ]
     },
     "execution_count": 21,
     "metadata": {},
     "output_type": "execute_result"
    }
   ],
   "source": [
    "feature_importance=pd.DataFrame(np.hstack((np.array([columns]).T, LogModel_m.coef_.T)), \n",
    "                                columns=['feature', 'importance'])\n",
    "feature_importance"
   ]
  },
  {
   "cell_type": "markdown",
   "metadata": {},
   "source": [
    "## Comparing ROC curves on male data by LogModel and LogModel_m"
   ]
  },
  {
   "cell_type": "code",
   "execution_count": 22,
   "metadata": {},
   "outputs": [
    {
     "data": {
      "image/png": "[encoded data removed]",
      "text/plain": [
       "<Figure size 432x288 with 1 Axes>"
      ]
     },
     "metadata": {
      "needs_background": "light"
     },
     "output_type": "display_data"
    }
   ],
   "source": [
    "#predicting probabilities of the predicted class\n",
    "y_pred_prob = LogModel.predict_proba(X_train_male)[:,1]\n",
    "y_pred_prob_male = LogModel_m.predict_proba(X_train_male)[:,1]\n",
    "#Plotting ROC curve\n",
    "fpr, tpr, _ = roc_curve(Y_train_male, y_pred_prob)\n",
    "fpr_m, tpr_m, _ = roc_curve(Y_train_male, y_pred_prob_male)\n",
    "AUC = auc(fpr,tpr)\n",
    "AUC_m = auc(fpr_m,tpr_m)\n",
    "plt.plot(fpr, tpr,label='Global Model(AUC= % 0.2f)' % AUC)\n",
    "plt.plot(fpr_m, tpr_m,label='Male Model(AUC= % 0.2f)' % AUC_m)\n",
    "plt.xlim([0.0, 1.0])\n",
    "plt.ylim([0.0, 1.0])\n",
    "plt.title('ROC curve (Male data)')\n",
    "plt.xlabel('False Positive Rate (1 - Specificity)')\n",
    "plt.ylabel('True Positive Rate (Sensitivity)')\n",
    "plt.legend(loc=\"lower right\")\n",
    "plt.grid(True)\n",
    "plt.savefig('ROC curve(Male data).png')"
   ]
  },
  {
   "cell_type": "markdown",
   "metadata": {},
   "source": [
    "## Logistic Regression for female data"
   ]
  },
  {
   "cell_type": "code",
   "execution_count": 23,
   "metadata": {
    "scrolled": true
   },
   "outputs": [
    {
     "data": {
      "image/png": "[encoded data removed]",
      "text/plain": [
       "<Figure size 432x288 with 1 Axes>"
      ]
     },
     "metadata": {
      "needs_background": "light"
     },
     "output_type": "display_data"
    }
   ],
   "source": [
    "LogModel_f = LogisticRegression(solver='lbfgs').fit(X_train_female,Y_train_female)\n",
    "Y_predicted_female = LogModel_f.predict(X_train_female)\n",
    "acc = accuracy_score(Y_train_female,Y_predicted_female)\n",
    "plt_confusion_matrix(Y_train_female,Y_predicted_female,title='Female LogModel on Female data')\n",
    "plt.savefig('Female LogModel on Female data.png')\n",
    "cf = confusion_matrix(Y_train_female, Y_predicted_female)\n",
    "tn = cf[0][0]\n",
    "fp = cf[0][1]\n",
    "fn = cf[1][0]\n",
    "tp = cf[1][1]\n",
    "sensitivity = tp/(tp+fn)\n",
    "specificity = tn/(tn+fp)\n",
    "performance.append(['Logistic Regression(Female)','Female dataset','Female dataset',acc*100,sensitivity,specificity])"
   ]
  },
  {
   "cell_type": "markdown",
   "metadata": {},
   "source": [
    "## Important features for Female Log Model"
   ]
  },
  {
   "cell_type": "code",
   "execution_count": 24,
   "metadata": {
    "scrolled": true
   },
   "outputs": [
    {
     "name": "stdout",
     "output_type": "stream",
     "text": [
      "Age EDUC SES MMSE eTIV nWBV ASF\n",
      "Num Features: 4\n",
      "Selected Features: [False  True False  True  True  True False]\n",
      "Feature Ranking: [2 1 3 1 1 1 4]\n"
     ]
    }
   ],
   "source": [
    "print('Age', 'EDUC', 'SES', 'MMSE', 'eTIV',\n",
    "       'nWBV', 'ASF')\n",
    "rfe = RFE(LogModel, 4)\n",
    "fit = rfe.fit(X_train_female, Y_train_female)\n",
    "print(\"Num Features: %d\" % fit.n_features_)\n",
    "print(\"Selected Features: %s\" % fit.support_)\n",
    "print(\"Feature Ranking: %s\" % fit.ranking_)"
   ]
  },
  {
   "cell_type": "code",
   "execution_count": 25,
   "metadata": {},
   "outputs": [
    {
     "data": {
      "text/html": [
       "<div>\n",
       "<style scoped>\n",
       "    .dataframe tbody tr th:only-of-type {\n",
       "        vertical-align: middle;\n",
       "    }\n",
       "\n",
       "    .dataframe tbody tr th {\n",
       "        vertical-align: top;\n",
       "    }\n",
       "\n",
       "    .dataframe thead th {\n",
       "        text-align: right;\n",
       "    }\n",
       "</style>\n",
       "<table border=\"1\" class=\"dataframe\">\n",
       "  <thead>\n",
       "    <tr style=\"text-align: right;\">\n",
       "      <th></th>\n",
       "      <th>feature</th>\n",
       "      <th>importance</th>\n",
       "    </tr>\n",
       "  </thead>\n",
       "  <tbody>\n",
       "    <tr>\n",
       "      <th>0</th>\n",
       "      <td>Age</td>\n",
       "      <td>-0.6438610829582669</td>\n",
       "    </tr>\n",
       "    <tr>\n",
       "      <th>1</th>\n",
       "      <td>EDUC</td>\n",
       "      <td>-2.162286344139639</td>\n",
       "    </tr>\n",
       "    <tr>\n",
       "      <th>2</th>\n",
       "      <td>SES</td>\n",
       "      <td>-0.47169043935956917</td>\n",
       "    </tr>\n",
       "    <tr>\n",
       "      <th>3</th>\n",
       "      <td>MMSE</td>\n",
       "      <td>-4.14434028526847</td>\n",
       "    </tr>\n",
       "    <tr>\n",
       "      <th>4</th>\n",
       "      <td>eTIV</td>\n",
       "      <td>-0.6691565402510162</td>\n",
       "    </tr>\n",
       "    <tr>\n",
       "      <th>5</th>\n",
       "      <td>nWBV</td>\n",
       "      <td>-1.5037351560187764</td>\n",
       "    </tr>\n",
       "    <tr>\n",
       "      <th>6</th>\n",
       "      <td>ASF</td>\n",
       "      <td>0.4612677208934475</td>\n",
       "    </tr>\n",
       "  </tbody>\n",
       "</table>\n",
       "</div>"
      ],
      "text/plain": [
       "  feature            importance\n",
       "0     Age   -0.6438610829582669\n",
       "1    EDUC    -2.162286344139639\n",
       "2     SES  -0.47169043935956917\n",
       "3    MMSE     -4.14434028526847\n",
       "4    eTIV   -0.6691565402510162\n",
       "5    nWBV   -1.5037351560187764\n",
       "6     ASF    0.4612677208934475"
      ]
     },
     "execution_count": 25,
     "metadata": {},
     "output_type": "execute_result"
    }
   ],
   "source": [
    "feature_importance=pd.DataFrame(np.hstack((np.array([columns]).T, LogModel_f.coef_.T)), \n",
    "                                columns=['feature', 'importance'])\n",
    "feature_importance"
   ]
  },
  {
   "cell_type": "markdown",
   "metadata": {},
   "source": [
    "## Comparing ROC curves on female data by LogModel and LogModel_f"
   ]
  },
  {
   "cell_type": "code",
   "execution_count": 26,
   "metadata": {},
   "outputs": [
    {
     "data": {
      "image/png": "[encoded data removed]",
      "text/plain": [
       "<Figure size 432x288 with 1 Axes>"
      ]
     },
     "metadata": {
      "needs_background": "light"
     },
     "output_type": "display_data"
    }
   ],
   "source": [
    "#predicting probabilities of the predicted class\n",
    "y_pred_prob = LogModel.predict_proba(X_train_female)[:,1]\n",
    "y_pred_prob_f = LogModel_f.predict_proba(X_train_female)[:,1]\n",
    "#Plotting ROC curve\n",
    "fpr, tpr, _ = roc_curve(Y_train_female, y_pred_prob)\n",
    "fpr_f, tpr_f, _ = roc_curve(Y_train_female, y_pred_prob_f)\n",
    "AUC = auc(fpr,tpr)\n",
    "AUC_f = auc(fpr_f,tpr_f)\n",
    "plt.plot(fpr, tpr,label='Global Model(AUC= % 0.2f)' % AUC)\n",
    "plt.plot(fpr_f, tpr_f,label='Female Model(AUC= % 0.2f)' % AUC_f)\n",
    "plt.xlim([0.0, 1.0])\n",
    "plt.ylim([0.0, 1.0])\n",
    "plt.title('ROC curve (Female data)')\n",
    "plt.xlabel('False Positive Rate (1 - Specificity)')\n",
    "plt.ylabel('True Positive Rate (Sensitivity)')\n",
    "plt.legend(loc=\"lower right\")\n",
    "plt.grid(True)\n",
    "plt.savefig('ROC curve(Female data).png')"
   ]
  },
  {
   "cell_type": "code",
   "execution_count": 27,
   "metadata": {
    "scrolled": true
   },
   "outputs": [
    {
     "data": {
      "text/plain": [
       "[['Model',\n",
       "  'Trained on Type of data',\n",
       "  'Predicting data',\n",
       "  'Accuracy in %',\n",
       "  'Sensitivity',\n",
       "  'Specificity'],\n",
       " ['Logistic Regression',\n",
       "  'Entire dataset',\n",
       "  'Entire dataset',\n",
       "  76.13941018766755,\n",
       "  0.6174863387978142,\n",
       "  0.9],\n",
       " ['Logistic Regression',\n",
       "  'Entire dataset',\n",
       "  'Male dataset',\n",
       "  67.5,\n",
       "  0.5050505050505051,\n",
       "  0.9508196721311475],\n",
       " ['Logistic Regression',\n",
       "  'Entire dataset',\n",
       "  'Female dataset',\n",
       "  82.15962441314554,\n",
       "  0.75,\n",
       "  0.8682170542635659],\n",
       " ['Logistic Regression(Male)',\n",
       "  'Male dataset',\n",
       "  'Male dataset',\n",
       "  70.625,\n",
       "  0.8888888888888888,\n",
       "  0.4098360655737705],\n",
       " ['Logistic Regression(Female)',\n",
       "  'Female dataset',\n",
       "  'Female dataset',\n",
       "  82.62910798122066,\n",
       "  0.5714285714285714,\n",
       "  0.9922480620155039]]"
      ]
     },
     "execution_count": 27,
     "metadata": {},
     "output_type": "execute_result"
    }
   ],
   "source": [
    "performance"
   ]
  },
  {
   "cell_type": "code",
   "execution_count": 28,
   "metadata": {},
   "outputs": [],
   "source": [
    "import csv\n",
    "with open('Performance.csv', 'w', newline='') as myfile:\n",
    "    for entries in performance:\n",
    "        wr = csv.writer(myfile, quoting=csv.QUOTE_ALL)\n",
    "        wr.writerow(entries)\n",
    "        wr.writerow(\"\\n\")"
   ]
  },
  {
   "cell_type": "code",
   "execution_count": null,
   "metadata": {},
   "outputs": [],
   "source": []
  }
 ],
 "metadata": {
  "kernelspec": {
   "display_name": "Python 3",
   "language": "python",
   "name": "python3"
  },
  "language_info": {
   "codemirror_mode": {
    "name": "ipython",
    "version": 3
   },
   "file_extension": ".py",
   "mimetype": "text/x-python",
   "name": "python",
   "nbconvert_exporter": "python",
   "pygments_lexer": "ipython3",
   "version": "3.7.3"
  }
 },
 "nbformat": 4,
 "nbformat_minor": 2
}
