{
 "cells": [
  {
   "cell_type": "code",
   "execution_count": 1,
   "metadata": {},
   "outputs": [],
   "source": [
    "import numpy as np\n",
    "import pandas as pd\n",
    "import sklearn as sk\n",
    "import seaborn as sb\n",
    "import pickle\n",
    "import matplotlib.pyplot as plt\n",
    "from pylab import rcParams\n",
    "rcParams['figure.figsize'] = 8,10"
   ]
  },
  {
   "cell_type": "code",
   "execution_count": 2,
   "metadata": {},
   "outputs": [],
   "source": [
    "long_df = pd.read_csv(\"oasis_longitudinal.csv\")"
   ]
  },
  {
   "cell_type": "code",
   "execution_count": 3,
   "metadata": {},
   "outputs": [],
   "source": [
    "long_df = long_df.drop(\"Subject ID\",axis = 1)\n",
    "long_df = long_df.drop(\"MRI ID\",axis =1)\n",
    "#dropping Hand column\n",
    "long_df=long_df.drop(\"Hand\",axis=1)\n",
    "long_df.SES = long_df.SES.fillna(round(long_df.SES.mean()))\n",
    "long_df.MMSE = long_df.MMSE.fillna(round(long_df.MMSE.mean()))\n",
    "long_df['Group'] = long_df['Group'].replace('Converted','Demented') \n",
    "#creating dummy variables\n",
    "long_df = pd.get_dummies(data= long_df,columns = {'Group','M/F'})\n",
    "long_df = long_df.rename(columns={'M/F_F':'Female','M/F_M':'Male','Group_Demented':'Demented','Group_Nondemented':'Non-Demented'})\n",
    "#Male=1 and Female=0\n",
    "long_df=long_df.drop(\"Female\",axis=1)\n",
    "long_df = long_df.rename(columns={\"Male\":\"Gender\"})\n",
    "#Demented=1 and Non-demented=0\n",
    "long_df = long_df.drop(\"Non-Demented\",axis=1)\n",
    "long_df = long_df.rename(columns={\"Demented\":\"Group\"})"
   ]
  },
  {
   "cell_type": "code",
   "execution_count": 4,
   "metadata": {},
   "outputs": [],
   "source": [
    "lower_df=long_df[long_df['Age']<long_df['Age'].median()]\n",
    "upper_df=long_df[long_df['Age']>=long_df['Age'].median()]"
   ]
  },
  {
   "cell_type": "code",
   "execution_count": 5,
   "metadata": {},
   "outputs": [],
   "source": [
    "from sklearn.model_selection import train_test_split\n",
    "from sklearn.linear_model import LogisticRegression\n",
    "from sklearn.metrics import confusion_matrix, accuracy_score, recall_score, roc_curve, auc\n",
    "from sklearn.preprocessing import MinMaxScaler"
   ]
  },
  {
   "cell_type": "code",
   "execution_count": 6,
   "metadata": {},
   "outputs": [],
   "source": [
    "columns=['Gender', 'EDUC', 'SES', 'MMSE', 'eTIV',\n",
    "       'nWBV', 'ASF']\n",
    "performance=[]\n",
    "features=[]"
   ]
  },
  {
   "cell_type": "markdown",
   "metadata": {},
   "source": [
    "## Logistic Regression for Lower Median Age"
   ]
  },
  {
   "cell_type": "code",
   "execution_count": 7,
   "metadata": {},
   "outputs": [],
   "source": [
    "def split_data():\n",
    "    y = lower_df['Group']\n",
    "    x = lower_df[['Gender', 'EDUC', 'SES', 'MMSE', 'eTIV',\n",
    "       'nWBV', 'ASF']]\n",
    "    X_train,X_test,Y_train,Y_test = train_test_split(x,y,test_size=0.33,random_state = 0)\n",
    "    scaler = MinMaxScaler().fit(X_train)\n",
    "    X_train = scaler.transform(X_train)\n",
    "    X_test = scaler.transform(X_test)\n",
    "    return X_train,X_test,Y_train,Y_test"
   ]
  },
  {
   "cell_type": "code",
   "execution_count": 8,
   "metadata": {},
   "outputs": [
    {
     "name": "stderr",
     "output_type": "stream",
     "text": [
      "/Users/akshayd/anaconda3/lib/python3.7/site-packages/sklearn/preprocessing/data.py:334: DataConversionWarning: Data with input dtype uint8, int64, float64 were all converted to float64 by MinMaxScaler.\n",
      "  return self.partial_fit(X, y)\n"
     ]
    }
   ],
   "source": [
    "X_train,X_test,Y_train,Y_test = split_data()"
   ]
  },
  {
   "cell_type": "code",
   "execution_count": 9,
   "metadata": {},
   "outputs": [
    {
     "data": {
      "text/plain": [
       "[['Logistic Regression',\n",
       "  0.6721311475409836,\n",
       "  0.6875,\n",
       "  0.6713362068965517,\n",
       "  array([0.        , 0.34482759, 1.        ]),\n",
       "  array([0.    , 0.6875, 1.    ]),\n",
       "  array([2, 1, 0])]]"
      ]
     },
     "execution_count": 9,
     "metadata": {},
     "output_type": "execute_result"
    }
   ],
   "source": [
    "LogModel_l= LogisticRegression(solver='lbfgs').fit(X_train,Y_train)#vanilla logistic regression\n",
    "Y_predicted = LogModel_l.predict(X_test)\n",
    "acc = accuracy_score(Y_test,Y_predicted)\n",
    "recall = recall_score(Y_test,Y_predicted,pos_label=1)\n",
    "fpr, tpr, thresholds = roc_curve(Y_test,Y_predicted,pos_label=1)\n",
    "AUC = auc(fpr,tpr)\n",
    "performance.append(['Logistic Regression',acc,recall,AUC,fpr,tpr,thresholds])\n",
    "performance"
   ]
  },
  {
   "cell_type": "code",
   "execution_count": 10,
   "metadata": {},
   "outputs": [
    {
     "data": {
      "text/plain": [
       "array([[ 0.84485058],\n",
       "       [-1.34161391],\n",
       "       [-0.08345326],\n",
       "       [-2.21927517],\n",
       "       [-0.10039206],\n",
       "       [-1.94077453],\n",
       "       [ 0.12799545]])"
      ]
     },
     "execution_count": 10,
     "metadata": {},
     "output_type": "execute_result"
    }
   ],
   "source": [
    "LogModel_l.coef_.T"
   ]
  },
  {
   "cell_type": "code",
   "execution_count": 11,
   "metadata": {},
   "outputs": [
    {
     "data": {
      "text/plain": [
       "array([['Gender'],\n",
       "       ['EDUC'],\n",
       "       ['SES'],\n",
       "       ['MMSE'],\n",
       "       ['eTIV'],\n",
       "       ['nWBV'],\n",
       "       ['ASF']], dtype='<U6')"
      ]
     },
     "execution_count": 11,
     "metadata": {},
     "output_type": "execute_result"
    }
   ],
   "source": [
    "np.array([columns]).T"
   ]
  },
  {
   "cell_type": "code",
   "execution_count": 12,
   "metadata": {},
   "outputs": [
    {
     "data": {
      "text/html": [
       "<div>\n",
       "<style scoped>\n",
       "    .dataframe tbody tr th:only-of-type {\n",
       "        vertical-align: middle;\n",
       "    }\n",
       "\n",
       "    .dataframe tbody tr th {\n",
       "        vertical-align: top;\n",
       "    }\n",
       "\n",
       "    .dataframe thead th {\n",
       "        text-align: right;\n",
       "    }\n",
       "</style>\n",
       "<table border=\"1\" class=\"dataframe\">\n",
       "  <thead>\n",
       "    <tr style=\"text-align: right;\">\n",
       "      <th></th>\n",
       "      <th>feature</th>\n",
       "      <th>importance</th>\n",
       "    </tr>\n",
       "  </thead>\n",
       "  <tbody>\n",
       "    <tr>\n",
       "      <th>0</th>\n",
       "      <td>Gender</td>\n",
       "      <td>0.844851</td>\n",
       "    </tr>\n",
       "    <tr>\n",
       "      <th>6</th>\n",
       "      <td>ASF</td>\n",
       "      <td>0.127995</td>\n",
       "    </tr>\n",
       "    <tr>\n",
       "      <th>2</th>\n",
       "      <td>SES</td>\n",
       "      <td>-0.083453</td>\n",
       "    </tr>\n",
       "    <tr>\n",
       "      <th>4</th>\n",
       "      <td>eTIV</td>\n",
       "      <td>-0.100392</td>\n",
       "    </tr>\n",
       "    <tr>\n",
       "      <th>1</th>\n",
       "      <td>EDUC</td>\n",
       "      <td>-1.341614</td>\n",
       "    </tr>\n",
       "    <tr>\n",
       "      <th>5</th>\n",
       "      <td>nWBV</td>\n",
       "      <td>-1.940775</td>\n",
       "    </tr>\n",
       "    <tr>\n",
       "      <th>3</th>\n",
       "      <td>MMSE</td>\n",
       "      <td>-2.219275</td>\n",
       "    </tr>\n",
       "  </tbody>\n",
       "</table>\n",
       "</div>"
      ],
      "text/plain": [
       "  feature  importance\n",
       "0  Gender    0.844851\n",
       "6     ASF    0.127995\n",
       "2     SES   -0.083453\n",
       "4    eTIV   -0.100392\n",
       "1    EDUC   -1.341614\n",
       "5    nWBV   -1.940775\n",
       "3    MMSE   -2.219275"
      ]
     },
     "execution_count": 12,
     "metadata": {},
     "output_type": "execute_result"
    }
   ],
   "source": [
    "feature_importance=pd.DataFrame(np.hstack((np.array([columns]).T, LogModel_l.coef_.T)), \n",
    "                                columns=['feature', 'importance'])\n",
    "feature_importance['importance']=pd.to_numeric(feature_importance['importance'])\n",
    "feature_importance.sort_values(by='importance', ascending=False)"
   ]
  },
  {
   "cell_type": "markdown",
   "metadata": {},
   "source": [
    "## Logistic Regression for upper Median Age"
   ]
  },
  {
   "cell_type": "code",
   "execution_count": 13,
   "metadata": {},
   "outputs": [],
   "source": [
    "def split_data():\n",
    "    y = upper_df['Group']\n",
    "    x = upper_df[['Gender', 'EDUC', 'SES', 'MMSE', 'eTIV',\n",
    "       'nWBV', 'ASF']]\n",
    "    X_train,X_test,Y_train,Y_test = train_test_split(x,y,test_size=0.33,random_state = 0)\n",
    "    scaler = MinMaxScaler().fit(X_train)\n",
    "    X_train = scaler.transform(X_train)\n",
    "    X_test = scaler.transform(X_test)\n",
    "    return X_train,X_test,Y_train,Y_test"
   ]
  },
  {
   "cell_type": "code",
   "execution_count": 14,
   "metadata": {},
   "outputs": [
    {
     "name": "stderr",
     "output_type": "stream",
     "text": [
      "/Users/akshayd/anaconda3/lib/python3.7/site-packages/sklearn/preprocessing/data.py:334: DataConversionWarning: Data with input dtype uint8, int64, float64 were all converted to float64 by MinMaxScaler.\n",
      "  return self.partial_fit(X, y)\n"
     ]
    }
   ],
   "source": [
    "X_train,X_test,Y_train,Y_test = split_data()"
   ]
  },
  {
   "cell_type": "code",
   "execution_count": 15,
   "metadata": {},
   "outputs": [
    {
     "data": {
      "text/plain": [
       "[['Logistic Regression',\n",
       "  0.6721311475409836,\n",
       "  0.6875,\n",
       "  0.6713362068965517,\n",
       "  array([0.        , 0.34482759, 1.        ]),\n",
       "  array([0.    , 0.6875, 1.    ]),\n",
       "  array([2, 1, 0])],\n",
       " ['Logistic Regression',\n",
       "  0.71875,\n",
       "  0.6206896551724138,\n",
       "  0.7103448275862069,\n",
       "  array([0. , 0.2, 1. ]),\n",
       "  array([0.        , 0.62068966, 1.        ]),\n",
       "  array([2, 1, 0])]]"
      ]
     },
     "execution_count": 15,
     "metadata": {},
     "output_type": "execute_result"
    }
   ],
   "source": [
    "LogModel_u= LogisticRegression(solver='lbfgs').fit(X_train,Y_train)#vanilla logistic regression\n",
    "Y_predicted = LogModel_u.predict(X_test)\n",
    "acc = accuracy_score(Y_test,Y_predicted)\n",
    "recall = recall_score(Y_test,Y_predicted,pos_label=1)\n",
    "fpr, tpr, thresholds = roc_curve(Y_test,Y_predicted,pos_label=1)\n",
    "AUC = auc(fpr,tpr)\n",
    "performance.append(['Logistic Regression',acc,recall,AUC,fpr,tpr,thresholds])\n",
    "performance"
   ]
  },
  {
   "cell_type": "code",
   "execution_count": 16,
   "metadata": {},
   "outputs": [
    {
     "data": {
      "text/plain": [
       "array([[ 1.41535882],\n",
       "       [-1.0135976 ],\n",
       "       [-0.23900738],\n",
       "       [-2.96827451],\n",
       "       [-1.26364737],\n",
       "       [-1.5163828 ],\n",
       "       [ 1.01810868]])"
      ]
     },
     "execution_count": 16,
     "metadata": {},
     "output_type": "execute_result"
    }
   ],
   "source": [
    "LogModel_u.coef_.T"
   ]
  },
  {
   "cell_type": "code",
   "execution_count": 17,
   "metadata": {},
   "outputs": [
    {
     "data": {
      "text/plain": [
       "array([['Gender'],\n",
       "       ['EDUC'],\n",
       "       ['SES'],\n",
       "       ['MMSE'],\n",
       "       ['eTIV'],\n",
       "       ['nWBV'],\n",
       "       ['ASF']], dtype='<U6')"
      ]
     },
     "execution_count": 17,
     "metadata": {},
     "output_type": "execute_result"
    }
   ],
   "source": [
    "np.array([columns]).T"
   ]
  },
  {
   "cell_type": "code",
   "execution_count": 18,
   "metadata": {},
   "outputs": [
    {
     "data": {
      "text/html": [
       "<div>\n",
       "<style scoped>\n",
       "    .dataframe tbody tr th:only-of-type {\n",
       "        vertical-align: middle;\n",
       "    }\n",
       "\n",
       "    .dataframe tbody tr th {\n",
       "        vertical-align: top;\n",
       "    }\n",
       "\n",
       "    .dataframe thead th {\n",
       "        text-align: right;\n",
       "    }\n",
       "</style>\n",
       "<table border=\"1\" class=\"dataframe\">\n",
       "  <thead>\n",
       "    <tr style=\"text-align: right;\">\n",
       "      <th></th>\n",
       "      <th>feature</th>\n",
       "      <th>importance</th>\n",
       "    </tr>\n",
       "  </thead>\n",
       "  <tbody>\n",
       "    <tr>\n",
       "      <th>0</th>\n",
       "      <td>Gender</td>\n",
       "      <td>1.415359</td>\n",
       "    </tr>\n",
       "    <tr>\n",
       "      <th>6</th>\n",
       "      <td>ASF</td>\n",
       "      <td>1.018109</td>\n",
       "    </tr>\n",
       "    <tr>\n",
       "      <th>2</th>\n",
       "      <td>SES</td>\n",
       "      <td>-0.239007</td>\n",
       "    </tr>\n",
       "    <tr>\n",
       "      <th>1</th>\n",
       "      <td>EDUC</td>\n",
       "      <td>-1.013598</td>\n",
       "    </tr>\n",
       "    <tr>\n",
       "      <th>4</th>\n",
       "      <td>eTIV</td>\n",
       "      <td>-1.263647</td>\n",
       "    </tr>\n",
       "    <tr>\n",
       "      <th>5</th>\n",
       "      <td>nWBV</td>\n",
       "      <td>-1.516383</td>\n",
       "    </tr>\n",
       "    <tr>\n",
       "      <th>3</th>\n",
       "      <td>MMSE</td>\n",
       "      <td>-2.968275</td>\n",
       "    </tr>\n",
       "  </tbody>\n",
       "</table>\n",
       "</div>"
      ],
      "text/plain": [
       "  feature  importance\n",
       "0  Gender    1.415359\n",
       "6     ASF    1.018109\n",
       "2     SES   -0.239007\n",
       "1    EDUC   -1.013598\n",
       "4    eTIV   -1.263647\n",
       "5    nWBV   -1.516383\n",
       "3    MMSE   -2.968275"
      ]
     },
     "execution_count": 18,
     "metadata": {},
     "output_type": "execute_result"
    }
   ],
   "source": [
    "feature_importance=pd.DataFrame(np.hstack((np.array([columns]).T, LogModel_u.coef_.T)), \n",
    "                                columns=['feature', 'importance'])\n",
    "feature_importance['importance']=pd.to_numeric(feature_importance['importance'])\n",
    "feature_importance.sort_values(by='importance', ascending=False)"
   ]
  },
  {
   "cell_type": "markdown",
   "metadata": {},
   "source": [
    "## Logistic Regression for Entire Data Set"
   ]
  },
  {
   "cell_type": "code",
   "execution_count": 19,
   "metadata": {},
   "outputs": [],
   "source": [
    "def split_data():\n",
    "    y = long_df['Group']\n",
    "    x = long_df[['Gender', 'EDUC', 'SES', 'MMSE', 'eTIV',\n",
    "       'nWBV', 'ASF']]\n",
    "    X_train,X_test,Y_train,Y_test = train_test_split(x,y,test_size=0.33,random_state = 0)\n",
    "    scaler = MinMaxScaler().fit(X_train)\n",
    "    X_train = scaler.transform(X_train)\n",
    "    X_test = scaler.transform(X_test)\n",
    "    return X_train,X_test,Y_train,Y_test"
   ]
  },
  {
   "cell_type": "code",
   "execution_count": 20,
   "metadata": {},
   "outputs": [
    {
     "name": "stderr",
     "output_type": "stream",
     "text": [
      "/Users/akshayd/anaconda3/lib/python3.7/site-packages/sklearn/preprocessing/data.py:334: DataConversionWarning: Data with input dtype uint8, int64, float64 were all converted to float64 by MinMaxScaler.\n",
      "  return self.partial_fit(X, y)\n"
     ]
    }
   ],
   "source": [
    "X_train,X_test,Y_train,Y_test = split_data()"
   ]
  },
  {
   "cell_type": "code",
   "execution_count": 21,
   "metadata": {},
   "outputs": [
    {
     "data": {
      "text/plain": [
       "[['Logistic Regression',\n",
       "  0.6721311475409836,\n",
       "  0.6875,\n",
       "  0.6713362068965517,\n",
       "  array([0.        , 0.34482759, 1.        ]),\n",
       "  array([0.    , 0.6875, 1.    ]),\n",
       "  array([2, 1, 0])],\n",
       " ['Logistic Regression',\n",
       "  0.71875,\n",
       "  0.6206896551724138,\n",
       "  0.7103448275862069,\n",
       "  array([0. , 0.2, 1. ]),\n",
       "  array([0.        , 0.62068966, 1.        ]),\n",
       "  array([2, 1, 0])],\n",
       " ['Logistic Regression',\n",
       "  0.7419354838709677,\n",
       "  0.7241379310344828,\n",
       "  0.7408568443051201,\n",
       "  array([0.        , 0.24242424, 1.        ]),\n",
       "  array([0.        , 0.72413793, 1.        ]),\n",
       "  array([2, 1, 0])]]"
      ]
     },
     "execution_count": 21,
     "metadata": {},
     "output_type": "execute_result"
    }
   ],
   "source": [
    "LogModel= LogisticRegression(solver='lbfgs').fit(X_train,Y_train)#vanilla logistic regression\n",
    "Y_predicted = LogModel.predict(X_test)\n",
    "acc = accuracy_score(Y_test,Y_predicted)\n",
    "recall = recall_score(Y_test,Y_predicted,pos_label=1)\n",
    "fpr, tpr, thresholds = roc_curve(Y_test,Y_predicted,pos_label=1)\n",
    "AUC = auc(fpr,tpr)\n",
    "performance.append(['Logistic Regression',acc,recall,AUC,fpr,tpr,thresholds])\n",
    "performance"
   ]
  },
  {
   "cell_type": "code",
   "execution_count": 22,
   "metadata": {},
   "outputs": [
    {
     "data": {
      "text/plain": [
       "array([[ 1.13231914],\n",
       "       [-1.18723751],\n",
       "       [-0.30888215],\n",
       "       [-4.19271756],\n",
       "       [-0.77937985],\n",
       "       [-2.17057053],\n",
       "       [ 0.48214063]])"
      ]
     },
     "execution_count": 22,
     "metadata": {},
     "output_type": "execute_result"
    }
   ],
   "source": [
    "LogModel.coef_.T"
   ]
  },
  {
   "cell_type": "code",
   "execution_count": 23,
   "metadata": {},
   "outputs": [
    {
     "data": {
      "text/plain": [
       "array([['Gender'],\n",
       "       ['EDUC'],\n",
       "       ['SES'],\n",
       "       ['MMSE'],\n",
       "       ['eTIV'],\n",
       "       ['nWBV'],\n",
       "       ['ASF']], dtype='<U6')"
      ]
     },
     "execution_count": 23,
     "metadata": {},
     "output_type": "execute_result"
    }
   ],
   "source": [
    "np.array([columns]).T"
   ]
  },
  {
   "cell_type": "code",
   "execution_count": 24,
   "metadata": {},
   "outputs": [
    {
     "data": {
      "text/html": [
       "<div>\n",
       "<style scoped>\n",
       "    .dataframe tbody tr th:only-of-type {\n",
       "        vertical-align: middle;\n",
       "    }\n",
       "\n",
       "    .dataframe tbody tr th {\n",
       "        vertical-align: top;\n",
       "    }\n",
       "\n",
       "    .dataframe thead th {\n",
       "        text-align: right;\n",
       "    }\n",
       "</style>\n",
       "<table border=\"1\" class=\"dataframe\">\n",
       "  <thead>\n",
       "    <tr style=\"text-align: right;\">\n",
       "      <th></th>\n",
       "      <th>feature</th>\n",
       "      <th>importance</th>\n",
       "    </tr>\n",
       "  </thead>\n",
       "  <tbody>\n",
       "    <tr>\n",
       "      <th>0</th>\n",
       "      <td>Gender</td>\n",
       "      <td>1.132319</td>\n",
       "    </tr>\n",
       "    <tr>\n",
       "      <th>6</th>\n",
       "      <td>ASF</td>\n",
       "      <td>0.482141</td>\n",
       "    </tr>\n",
       "    <tr>\n",
       "      <th>2</th>\n",
       "      <td>SES</td>\n",
       "      <td>-0.308882</td>\n",
       "    </tr>\n",
       "    <tr>\n",
       "      <th>4</th>\n",
       "      <td>eTIV</td>\n",
       "      <td>-0.779380</td>\n",
       "    </tr>\n",
       "    <tr>\n",
       "      <th>1</th>\n",
       "      <td>EDUC</td>\n",
       "      <td>-1.187238</td>\n",
       "    </tr>\n",
       "    <tr>\n",
       "      <th>5</th>\n",
       "      <td>nWBV</td>\n",
       "      <td>-2.170571</td>\n",
       "    </tr>\n",
       "    <tr>\n",
       "      <th>3</th>\n",
       "      <td>MMSE</td>\n",
       "      <td>-4.192718</td>\n",
       "    </tr>\n",
       "  </tbody>\n",
       "</table>\n",
       "</div>"
      ],
      "text/plain": [
       "  feature  importance\n",
       "0  Gender    1.132319\n",
       "6     ASF    0.482141\n",
       "2     SES   -0.308882\n",
       "4    eTIV   -0.779380\n",
       "1    EDUC   -1.187238\n",
       "5    nWBV   -2.170571\n",
       "3    MMSE   -4.192718"
      ]
     },
     "execution_count": 24,
     "metadata": {},
     "output_type": "execute_result"
    }
   ],
   "source": [
    "feature_importance=pd.DataFrame(np.hstack((np.array([columns]).T, LogModel.coef_.T)), \n",
    "                                columns=['feature', 'importance'])\n",
    "feature_importance['importance']=pd.to_numeric(feature_importance['importance'])\n",
    "feature_importance.sort_values(by='importance', ascending=False)"
   ]
  },
  {
   "cell_type": "code",
   "execution_count": 25,
   "metadata": {},
   "outputs": [
    {
     "data": {
      "text/plain": [
       "[['Logistic Regression',\n",
       "  0.6721311475409836,\n",
       "  0.6875,\n",
       "  0.6713362068965517,\n",
       "  array([0.        , 0.34482759, 1.        ]),\n",
       "  array([0.    , 0.6875, 1.    ]),\n",
       "  array([2, 1, 0])],\n",
       " ['Logistic Regression',\n",
       "  0.71875,\n",
       "  0.6206896551724138,\n",
       "  0.7103448275862069,\n",
       "  array([0. , 0.2, 1. ]),\n",
       "  array([0.        , 0.62068966, 1.        ]),\n",
       "  array([2, 1, 0])],\n",
       " ['Logistic Regression',\n",
       "  0.7419354838709677,\n",
       "  0.7241379310344828,\n",
       "  0.7408568443051201,\n",
       "  array([0.        , 0.24242424, 1.        ]),\n",
       "  array([0.        , 0.72413793, 1.        ]),\n",
       "  array([2, 1, 0])]]"
      ]
     },
     "execution_count": 25,
     "metadata": {},
     "output_type": "execute_result"
    }
   ],
   "source": [
    "performance"
   ]
  },
  {
   "cell_type": "code",
   "execution_count": null,
   "metadata": {},
   "outputs": [],
   "source": []
  }
 ],
 "metadata": {
  "kernelspec": {
   "display_name": "Python 3",
   "language": "python",
   "name": "python3"
  },
  "language_info": {
   "codemirror_mode": {
    "name": "ipython",
    "version": 3
   },
   "file_extension": ".py",
   "mimetype": "text/x-python",
   "name": "python",
   "nbconvert_exporter": "python",
   "pygments_lexer": "ipython3",
   "version": "3.7.3"
  }
 },
 "nbformat": 4,
 "nbformat_minor": 2
}
